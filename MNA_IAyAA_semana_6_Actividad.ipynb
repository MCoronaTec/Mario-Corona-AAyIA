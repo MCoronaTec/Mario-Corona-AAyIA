{
  "nbformat": 4,
  "nbformat_minor": 0,
  "metadata": {
    "colab": {
      "provenance": [],
      "collapsed_sections": [],
      "include_colab_link": true
    },
    "kernelspec": {
      "display_name": "Python 3",
      "name": "python3"
    }
  },
  "cells": [
    {
      "cell_type": "markdown",
      "metadata": {
        "id": "view-in-github",
        "colab_type": "text"
      },
      "source": [
        "<a href=\"https://colab.research.google.com/github/MCoronaTec/Mario-Corona-AAyIA/blob/main/MNA_IAyAA_semana_6_Actividad.ipynb\" target=\"_parent\"><img src=\"https://colab.research.google.com/assets/colab-badge.svg\" alt=\"Open In Colab\"/></a>"
      ]
    },
    {
      "cell_type": "markdown",
      "source": [
        "#**Maestría en Inteligencia Artificial Aplicada**\n",
        "##**Curso: Inteligencia Artificial y Aprendizaje Automático**\n",
        "###Tecnológico de Monterrey\n",
        "###Prof Luis Eduardo Falcón Morales\n",
        "\n",
        "## **Adtividad de la Semana 6**\n",
        "###**Árboles de decisión y bosque aleatorio.**\n"
      ],
      "metadata": {
        "id": "VFj0sSM06dYa"
      }
    },
    {
      "cell_type": "markdown",
      "source": [
        "**Nombres y matrículas de los integrantes del equipo:**\n",
        "\n",
        "*   \n",
        "*   \n",
        "*   \n",
        "*   \n",
        "*   \n"
      ],
      "metadata": {
        "id": "Qgrvy0RGB9XI"
      }
    },
    {
      "cell_type": "markdown",
      "source": [
        "En cada sección deberás incluir todas las líneas de código necesarias para responder a cada uno de los ejercicios."
      ],
      "metadata": {
        "id": "FrJ2ahMODVj1"
      }
    },
    {
      "cell_type": "code",
      "source": [
        "# Incluye aquí todos módulos, librerías y paquetes que requieras.\n",
        "import pandas as pd\n",
        "import numpy as np\n",
        "from sklearn.model_selection import train_test_split\n",
        "\n",
        "from sklearn.pipeline import Pipeline\n",
        "from sklearn.compose import ColumnTransformer\n",
        "\n",
        "#Para aproximaciones (ejercicio 3)\n",
        "from sklearn.impute import SimpleImputer\n",
        "from sklearn.preprocessing import MinMaxScaler, OneHotEncoder\n",
        "\n",
        "from sklearn.model_selection import GridSearchCV\n",
        "\n",
        "from sklearn.metrics import confusion_matrix\n",
        "from sklearn.linear_model import LogisticRegression\n",
        "from sklearn.model_selection import RepeatedStratifiedKFold\n",
        "from sklearn.tree import DecisionTreeClassifier\n",
        "from sklearn.ensemble import RandomForestClassifier "
      ],
      "metadata": {
        "id": "exXsscs-Dh-2"
      },
      "execution_count": null,
      "outputs": []
    },
    {
      "cell_type": "markdown",
      "metadata": {
        "id": "X25brD-gQdZM"
      },
      "source": [
        "#**Ejercicio-1.** "
      ]
    },
    {
      "cell_type": "code",
      "source": [
        "d_path = \"SouthGermanCredit/SouthGermanCredit.asc\"\n",
        "df = pd.read_csv(d_path, sep=\" \", header=None)\n",
        "english_names = {'laufkont':'status','laufzeit':'duration','moral':'credit_history','verw':'purpose','hoehe':'amount',\n",
        "                 'sparkont':'savings','beszeit':'employment_duration','rate':'installment_rate',\n",
        "                 'famges':'personal_status_sex','buerge':'other_debtors','wohnzeit':'present_residence',\n",
        "                 'verm':'property','alter':'age','weitkred':'other_installment_plans','wohn':'housing',\n",
        "                 'bishkred':'number_credits','beruf':'job','pers':'people_liable','telef':'telephone',\n",
        "                 'gastarb':'foreign_worker','kredit':'credit_risk'}\n",
        "df.replace(english_names, inplace=True)\n",
        "df.head()"
      ],
      "metadata": {
        "id": "3nU2GuWYCy6C",
        "colab": {
          "base_uri": "https://localhost:8080/",
          "height": 299
        },
        "outputId": "2b376bcf-95b7-448b-c206-d92dde84afde"
      },
      "execution_count": null,
      "outputs": [
        {
          "output_type": "execute_result",
          "data": {
            "text/plain": [
              "       0         1               2        3       4        5   \\\n",
              "0  status  duration  credit_history  purpose  amount  savings   \n",
              "1       1        18               4        2    1049        1   \n",
              "2       1         9               4        0    2799        1   \n",
              "3       2        12               2        9     841        2   \n",
              "4       1        12               4        0    2122        1   \n",
              "\n",
              "                    6                 7                    8              9   \\\n",
              "0  employment_duration  installment_rate  personal_status_sex  other_debtors   \n",
              "1                    2                 4                    2              1   \n",
              "2                    3                 2                    3              1   \n",
              "3                    4                 2                    2              1   \n",
              "4                    3                 3                    3              1   \n",
              "\n",
              "   ...        11   12                       13       14              15   16  \\\n",
              "0  ...  property  age  other_installment_plans  housing  number_credits  job   \n",
              "1  ...         2   21                        3        1               1    3   \n",
              "2  ...         1   36                        3        1               2    3   \n",
              "3  ...         1   23                        3        1               1    2   \n",
              "4  ...         1   39                        3        1               2    2   \n",
              "\n",
              "              17         18              19           20  \n",
              "0  people_liable  telephone  foreign_worker  credit_risk  \n",
              "1              2          1               2            1  \n",
              "2              1          1               2            1  \n",
              "3              2          1               2            1  \n",
              "4              1          1               1            1  \n",
              "\n",
              "[5 rows x 21 columns]"
            ],
            "text/html": [
              "\n",
              "  <div id=\"df-e3f172b8-e3fd-47aa-8b2f-79db1bc1f84d\">\n",
              "    <div class=\"colab-df-container\">\n",
              "      <div>\n",
              "<style scoped>\n",
              "    .dataframe tbody tr th:only-of-type {\n",
              "        vertical-align: middle;\n",
              "    }\n",
              "\n",
              "    .dataframe tbody tr th {\n",
              "        vertical-align: top;\n",
              "    }\n",
              "\n",
              "    .dataframe thead th {\n",
              "        text-align: right;\n",
              "    }\n",
              "</style>\n",
              "<table border=\"1\" class=\"dataframe\">\n",
              "  <thead>\n",
              "    <tr style=\"text-align: right;\">\n",
              "      <th></th>\n",
              "      <th>0</th>\n",
              "      <th>1</th>\n",
              "      <th>2</th>\n",
              "      <th>3</th>\n",
              "      <th>4</th>\n",
              "      <th>5</th>\n",
              "      <th>6</th>\n",
              "      <th>7</th>\n",
              "      <th>8</th>\n",
              "      <th>9</th>\n",
              "      <th>...</th>\n",
              "      <th>11</th>\n",
              "      <th>12</th>\n",
              "      <th>13</th>\n",
              "      <th>14</th>\n",
              "      <th>15</th>\n",
              "      <th>16</th>\n",
              "      <th>17</th>\n",
              "      <th>18</th>\n",
              "      <th>19</th>\n",
              "      <th>20</th>\n",
              "    </tr>\n",
              "  </thead>\n",
              "  <tbody>\n",
              "    <tr>\n",
              "      <th>0</th>\n",
              "      <td>status</td>\n",
              "      <td>duration</td>\n",
              "      <td>credit_history</td>\n",
              "      <td>purpose</td>\n",
              "      <td>amount</td>\n",
              "      <td>savings</td>\n",
              "      <td>employment_duration</td>\n",
              "      <td>installment_rate</td>\n",
              "      <td>personal_status_sex</td>\n",
              "      <td>other_debtors</td>\n",
              "      <td>...</td>\n",
              "      <td>property</td>\n",
              "      <td>age</td>\n",
              "      <td>other_installment_plans</td>\n",
              "      <td>housing</td>\n",
              "      <td>number_credits</td>\n",
              "      <td>job</td>\n",
              "      <td>people_liable</td>\n",
              "      <td>telephone</td>\n",
              "      <td>foreign_worker</td>\n",
              "      <td>credit_risk</td>\n",
              "    </tr>\n",
              "    <tr>\n",
              "      <th>1</th>\n",
              "      <td>1</td>\n",
              "      <td>18</td>\n",
              "      <td>4</td>\n",
              "      <td>2</td>\n",
              "      <td>1049</td>\n",
              "      <td>1</td>\n",
              "      <td>2</td>\n",
              "      <td>4</td>\n",
              "      <td>2</td>\n",
              "      <td>1</td>\n",
              "      <td>...</td>\n",
              "      <td>2</td>\n",
              "      <td>21</td>\n",
              "      <td>3</td>\n",
              "      <td>1</td>\n",
              "      <td>1</td>\n",
              "      <td>3</td>\n",
              "      <td>2</td>\n",
              "      <td>1</td>\n",
              "      <td>2</td>\n",
              "      <td>1</td>\n",
              "    </tr>\n",
              "    <tr>\n",
              "      <th>2</th>\n",
              "      <td>1</td>\n",
              "      <td>9</td>\n",
              "      <td>4</td>\n",
              "      <td>0</td>\n",
              "      <td>2799</td>\n",
              "      <td>1</td>\n",
              "      <td>3</td>\n",
              "      <td>2</td>\n",
              "      <td>3</td>\n",
              "      <td>1</td>\n",
              "      <td>...</td>\n",
              "      <td>1</td>\n",
              "      <td>36</td>\n",
              "      <td>3</td>\n",
              "      <td>1</td>\n",
              "      <td>2</td>\n",
              "      <td>3</td>\n",
              "      <td>1</td>\n",
              "      <td>1</td>\n",
              "      <td>2</td>\n",
              "      <td>1</td>\n",
              "    </tr>\n",
              "    <tr>\n",
              "      <th>3</th>\n",
              "      <td>2</td>\n",
              "      <td>12</td>\n",
              "      <td>2</td>\n",
              "      <td>9</td>\n",
              "      <td>841</td>\n",
              "      <td>2</td>\n",
              "      <td>4</td>\n",
              "      <td>2</td>\n",
              "      <td>2</td>\n",
              "      <td>1</td>\n",
              "      <td>...</td>\n",
              "      <td>1</td>\n",
              "      <td>23</td>\n",
              "      <td>3</td>\n",
              "      <td>1</td>\n",
              "      <td>1</td>\n",
              "      <td>2</td>\n",
              "      <td>2</td>\n",
              "      <td>1</td>\n",
              "      <td>2</td>\n",
              "      <td>1</td>\n",
              "    </tr>\n",
              "    <tr>\n",
              "      <th>4</th>\n",
              "      <td>1</td>\n",
              "      <td>12</td>\n",
              "      <td>4</td>\n",
              "      <td>0</td>\n",
              "      <td>2122</td>\n",
              "      <td>1</td>\n",
              "      <td>3</td>\n",
              "      <td>3</td>\n",
              "      <td>3</td>\n",
              "      <td>1</td>\n",
              "      <td>...</td>\n",
              "      <td>1</td>\n",
              "      <td>39</td>\n",
              "      <td>3</td>\n",
              "      <td>1</td>\n",
              "      <td>2</td>\n",
              "      <td>2</td>\n",
              "      <td>1</td>\n",
              "      <td>1</td>\n",
              "      <td>1</td>\n",
              "      <td>1</td>\n",
              "    </tr>\n",
              "  </tbody>\n",
              "</table>\n",
              "<p>5 rows × 21 columns</p>\n",
              "</div>\n",
              "      <button class=\"colab-df-convert\" onclick=\"convertToInteractive('df-e3f172b8-e3fd-47aa-8b2f-79db1bc1f84d')\"\n",
              "              title=\"Convert this dataframe to an interactive table.\"\n",
              "              style=\"display:none;\">\n",
              "        \n",
              "  <svg xmlns=\"http://www.w3.org/2000/svg\" height=\"24px\"viewBox=\"0 0 24 24\"\n",
              "       width=\"24px\">\n",
              "    <path d=\"M0 0h24v24H0V0z\" fill=\"none\"/>\n",
              "    <path d=\"M18.56 5.44l.94 2.06.94-2.06 2.06-.94-2.06-.94-.94-2.06-.94 2.06-2.06.94zm-11 1L8.5 8.5l.94-2.06 2.06-.94-2.06-.94L8.5 2.5l-.94 2.06-2.06.94zm10 10l.94 2.06.94-2.06 2.06-.94-2.06-.94-.94-2.06-.94 2.06-2.06.94z\"/><path d=\"M17.41 7.96l-1.37-1.37c-.4-.4-.92-.59-1.43-.59-.52 0-1.04.2-1.43.59L10.3 9.45l-7.72 7.72c-.78.78-.78 2.05 0 2.83L4 21.41c.39.39.9.59 1.41.59.51 0 1.02-.2 1.41-.59l7.78-7.78 2.81-2.81c.8-.78.8-2.07 0-2.86zM5.41 20L4 18.59l7.72-7.72 1.47 1.35L5.41 20z\"/>\n",
              "  </svg>\n",
              "      </button>\n",
              "      \n",
              "  <style>\n",
              "    .colab-df-container {\n",
              "      display:flex;\n",
              "      flex-wrap:wrap;\n",
              "      gap: 12px;\n",
              "    }\n",
              "\n",
              "    .colab-df-convert {\n",
              "      background-color: #E8F0FE;\n",
              "      border: none;\n",
              "      border-radius: 50%;\n",
              "      cursor: pointer;\n",
              "      display: none;\n",
              "      fill: #1967D2;\n",
              "      height: 32px;\n",
              "      padding: 0 0 0 0;\n",
              "      width: 32px;\n",
              "    }\n",
              "\n",
              "    .colab-df-convert:hover {\n",
              "      background-color: #E2EBFA;\n",
              "      box-shadow: 0px 1px 2px rgba(60, 64, 67, 0.3), 0px 1px 3px 1px rgba(60, 64, 67, 0.15);\n",
              "      fill: #174EA6;\n",
              "    }\n",
              "\n",
              "    [theme=dark] .colab-df-convert {\n",
              "      background-color: #3B4455;\n",
              "      fill: #D2E3FC;\n",
              "    }\n",
              "\n",
              "    [theme=dark] .colab-df-convert:hover {\n",
              "      background-color: #434B5C;\n",
              "      box-shadow: 0px 1px 3px 1px rgba(0, 0, 0, 0.15);\n",
              "      filter: drop-shadow(0px 1px 2px rgba(0, 0, 0, 0.3));\n",
              "      fill: #FFFFFF;\n",
              "    }\n",
              "  </style>\n",
              "\n",
              "      <script>\n",
              "        const buttonEl =\n",
              "          document.querySelector('#df-e3f172b8-e3fd-47aa-8b2f-79db1bc1f84d button.colab-df-convert');\n",
              "        buttonEl.style.display =\n",
              "          google.colab.kernel.accessAllowed ? 'block' : 'none';\n",
              "\n",
              "        async function convertToInteractive(key) {\n",
              "          const element = document.querySelector('#df-e3f172b8-e3fd-47aa-8b2f-79db1bc1f84d');\n",
              "          const dataTable =\n",
              "            await google.colab.kernel.invokeFunction('convertToInteractive',\n",
              "                                                     [key], {});\n",
              "          if (!dataTable) return;\n",
              "\n",
              "          const docLinkHtml = 'Like what you see? Visit the ' +\n",
              "            '<a target=\"_blank\" href=https://colab.research.google.com/notebooks/data_table.ipynb>data table notebook</a>'\n",
              "            + ' to learn more about interactive tables.';\n",
              "          element.innerHTML = '';\n",
              "          dataTable['output_type'] = 'display_data';\n",
              "          await google.colab.output.renderOutput(dataTable, element);\n",
              "          const docLink = document.createElement('div');\n",
              "          docLink.innerHTML = docLinkHtml;\n",
              "          element.appendChild(docLink);\n",
              "        }\n",
              "      </script>\n",
              "    </div>\n",
              "  </div>\n",
              "  "
            ]
          },
          "metadata": {},
          "execution_count": 5
        }
      ]
    },
    {
      "cell_type": "markdown",
      "source": [
        "#**Ejercicio-2.**"
      ],
      "metadata": {
        "id": "xZhr2hkECzVv"
      }
    },
    {
      "cell_type": "code",
      "source": [
        "X = df.iloc[:, :-1]\n",
        "Y = df.iloc[:, -1]\n",
        " \n",
        "X_train, _, y_train, _ = train_test_split(X, Y, train_size=0.85, random_state=1)"
      ],
      "metadata": {
        "id": "kGfAoOPkC1PP"
      },
      "execution_count": null,
      "outputs": []
    },
    {
      "cell_type": "markdown",
      "source": [
        "#**Ejercicio-3.**"
      ],
      "metadata": {
        "id": "NCunuooTC2W3"
      }
    },
    {
      "cell_type": "code",
      "source": [
        "quan_pipeline_names = ['duration', 'age']\n",
        "quan_disc_pipeline_names = [\n",
        "                            'amount', 'employment_duration', 'installment_rate', \n",
        "                            'present_residence', 'age', 'number_credits',\n",
        "                            ]\n",
        "ord_pipeline_name = [\n",
        "                      'employment_duration', 'installment_rate', 'present_residence',\n",
        "                      'property', 'number_credits', 'people_liable'\n",
        "                    ]\n",
        "cat_pipeline_names = [\n",
        "                      'status', 'credit_history', 'purpose', 'savings' ,'personal_status_sex', 'other_debtors', \n",
        "                      'other_installment_plans', 'housing', 'personal_status_sex'\n",
        "                     ]\n",
        "bin_pipeline_names = ['people_liable', 'telephone', 'foreign_worker', 'credit_risk']\n",
        "\n",
        "quan_med_pipeline    = Pipeline(steps = [('impMediana', SimpleImputer(strategy='median'))])\n",
        "quan_minmax_pipeline = Pipeline(steps = [('escalaNum', MinMaxScaler(feature_range=(1,2)))])\n",
        "cat_pipeline      = Pipeline(steps = [('impModa', SimpleImputer(strategy='most_frequent'))])  \n",
        "bin_pipeline      = Pipeline(steps = [('OneHotE', OneHotEncoder(drop='first'))])\n",
        "\n",
        "columnasTransformer = ColumnTransformer(transformers = [\n",
        "                                                          ('nummed', quan_med_pipeline, quan_disc_pipeline_names),\n",
        "                                                          ('nummaxmin', quan_minmax_pipeline, quan_disc_pipeline_names),\n",
        "                                                          ('catpipe', cat_pipeline, cat_pipeline_names),\n",
        "                                                          ('binpipe', bin_pipeline, bin_pipeline_names)\n",
        "                                                       ],\n",
        "                                         remainder='passthrough'\n",
        "                                        )\n"
      ],
      "metadata": {
        "id": "YXlcSWA-C4Dj"
      },
      "execution_count": null,
      "outputs": []
    },
    {
      "cell_type": "markdown",
      "source": [
        "#**Ejercicio-4.**"
      ],
      "metadata": {
        "id": "chqk9jIDC5Pq"
      }
    },
    {
      "cell_type": "code",
      "source": [
        "def my_metrics(y_val, x_val):\n",
        "  vn, fp, fn, vp = confusion_matrix(y_val, modelo.predict(x_val)).ravel()\n",
        "\n",
        "  accuracy = (vp + vn)/(vp + vn + fp + fn)\n",
        "  precision = vp / ( vp+fp)\n",
        "  recall = vp / (vp+fn)\n",
        "  f1score = 2*vp / (2*vp+fp+fn)\n",
        "  specificity = vn / (vn+fp)\n",
        "  gmean = np.sqrt(recall * specificity)\n",
        "\n",
        "  return accuracy, precision, recall, f1score, gmean"
      ],
      "metadata": {
        "id": "RBVSFwK4C6g9"
      },
      "execution_count": null,
      "outputs": []
    },
    {
      "cell_type": "code",
      "source": [
        "def get_models():\n",
        "  models = list()\n",
        "  names = list()\n",
        "\n",
        "  # LR - Regresión Logística:\n",
        "  models.append(LogisticRegression(solver='liblinear'))\n",
        "  names.append('LR')\n",
        "\n",
        "  # DT - Árbol de Decisión:\n",
        "  models.append(DecisionTreeClassifier())\n",
        "  names.append('DT')\n",
        "  \n",
        "  # FRC - Bosque Aleatorio\n",
        "  models.append(RandomForestClassifier(n_estimators=10,  # número de árboles en el Forest y después promedia por votación.\n",
        "                                        criterion='gini',   # métrica para determinar las ramas. También puede ser: 'entropy', para la GananciaDeInformación (IG).\n",
        "                                        max_depth=2, # Depth=k : máximo 2^k líneas/ramas.        \n",
        "                                        min_samples_split = 6,  # mínimo de puntos muestrales requeridos en un nodo para hacer la ramificación. Puede ser fracción de 0 a 1.\n",
        "                                        min_samples_leaf = 4,  # mínimo de puntos muestrales que deben quedar en cada nueva ramificación (hojas). Puede ser fracción de 0 a 1.\n",
        "                                        max_features= 'auto',   # número de características (features) que se consideran en cada ramificación: auto=sqrt(n_features).\n",
        "                                        max_leaf_nodes=16,  # solo nos quedamos con las mejores k hojas.\n",
        "                                        bootstrap=True,  # Cada Árbol se muestrea seleccionando la cantidad de datos del conjunto de entrenamiento, pero con reemplazo. False:los datos usados en cada árbol simpre es el mismo, el Train-set.\n",
        "                                        oob_score=True,  # en caso de utilizar Out-of-bag samples.\n",
        "                                        verbose=0,     # tipo de despliega de información durante el entrenamiento.\n",
        "                                        n_jobs=-1,    # total de hilos a usar en las rutinas paralelizables: \"-1\" :usar todos los posibles. \n",
        "                                        max_samples=None,   # Cuando se usa Boostrap, es el total de datos de Xtrain a usar en cada árbol. \"None\" usará Xtrain[0]. \n",
        "                                        random_state=19)\n",
        "               )\n",
        "  names.append('FRC')\n",
        "  \n",
        "  return models, names"
      ],
      "metadata": {
        "id": "7KXnlNzAC69Y"
      },
      "execution_count": null,
      "outputs": []
    },
    {
      "cell_type": "markdown",
      "source": [
        "#**Ejercicio-5.**"
      ],
      "metadata": {
        "id": "Rv7KFq-mC7PS"
      }
    },
    {
      "cell_type": "code",
      "source": [
        "modelo = LogisticRegression(\n",
        "                              C=100,\n",
        "                              solver='liblinear',\n",
        "                              class_weight='balanced',\n",
        "                              penalty='l2'\n",
        "                           )\n",
        "\n",
        "dicc_grid = {'C':[0.0001,0.01,0.1,1.0,10.,100.],\n",
        "             'solver':['newton-cg','lbfgs','liblinear','sag','saga']\n",
        "             }\n",
        "\n",
        "cv = RepeatedStratifiedKFold(n_splits=10, n_repeats=5, random_state=8)\n",
        "\n",
        "grid = GridSearchCV(estimator=modelo, \n",
        "                    param_grid=dicc_grid, \n",
        "                    cv=cv, \n",
        "                    scoring='accuracy')\n",
        "\n",
        "#vn, fp, fn, vp = confusion_matrix(y_val, modelo.predict(X_val)).ravel()"
      ],
      "metadata": {
        "id": "jaDj3kawC9B6"
      },
      "execution_count": null,
      "outputs": []
    },
    {
      "cell_type": "code",
      "source": [],
      "metadata": {
        "id": "4tQxQROVC9Us"
      },
      "execution_count": null,
      "outputs": []
    },
    {
      "cell_type": "markdown",
      "source": [
        "#**Ejercicio-6.**"
      ],
      "metadata": {
        "id": "W2S7LI0NC9wE"
      }
    },
    {
      "cell_type": "code",
      "source": [
        "None"
      ],
      "metadata": {
        "id": "x6uBleJUC_AU"
      },
      "execution_count": null,
      "outputs": []
    },
    {
      "cell_type": "code",
      "source": [],
      "metadata": {
        "id": "n0P_AcyjC_Dh"
      },
      "execution_count": null,
      "outputs": []
    },
    {
      "cell_type": "markdown",
      "source": [
        "###**Fin de la Actividad de la semana 6.**"
      ],
      "metadata": {
        "id": "7ql_r2G-DB_m"
      }
    }
  ]
}